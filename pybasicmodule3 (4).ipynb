{
 "cells": [
  {
   "cell_type": "code",
   "execution_count": null,
   "metadata": {
    "id": "Hh4F_qkbIe6k"
   },
   "outputs": [],
   "source": []
  },
  {
   "cell_type": "markdown",
   "metadata": {},
   "source": []
  },
  {
   "cell_type": "markdown",
   "metadata": {},
   "source": []
  },
  {
   "cell_type": "markdown",
   "metadata": {
    "id": "n2RKwT_FIfje"
   },
   "source": [
    "1.What is Python, and why is it popular?\n",
    "\n",
    "--> Python is a high-level, interpreted programming language known for its simplicity, readability, and broad community support. It’s popular due to its easy syntax, wide range of libraries, and applicability in fields like web development, data science, AI, and automation.\n",
    "\n",
    "\n",
    "2.What is an interpreter in Python?\n",
    "\n",
    "-->The Python interpreter is the program that reads and executes Python code line-by-line. It translates Python code into machine code at runtime.\n",
    "\n",
    "3.What are pre-defined keywords in Python?\n",
    "\n",
    "-->Pre-defined keywords are reserved words in Python that have special meaning, like if, else, for, while, def, class, etc. These cannot be used as variable names.\n",
    "\n",
    "4.Can keywords be used as variable names?\n",
    "\n",
    "-->No, keywords cannot be used as variable names because they are reserved for specific syntactic purposes in the language.\n",
    "\n",
    "5.What is mutability in Python?\n",
    "\n",
    "-->Mutability refers to whether an object’s value can be changed after it is created. Mutable objects (like lists) can be changed, while immutable objects (like tuples and strings) cannot.\n",
    "\n",
    "6.Why are lists mutable, but tuples are immutable?\n",
    "\n",
    "-->Lists are designed to be dynamic and allow modifications, while tuples are meant to be constant and used as fixed data structures, providing better performance and reliability.\n",
    "\n",
    "7.What is the difference between == and is operators in Python?\n",
    "\n",
    "--> == compares the values of two objects, whereas is checks if two variables point to the same memory location (i.e., identity).\n",
    "\n",
    "8.What are logical operators in Python?\n",
    "\n",
    "-->Logical operators include and, or, and not, which are used to combine conditional statements.\n",
    "\n",
    "9. What is type casting in Python?\n",
    "\n",
    "-->Type casting is converting a variable from one data type to another, like int(\"5\") to convert a string to an integer.\n",
    "\n",
    "10.What is the difference between implicit and explicit type casting?\n",
    "\n",
    "-->Implicit casting: Automatically done by Python (e.g., int to float).\n",
    "\n",
    "Explicit casting: Done manually by the programmer using functions like int(), float(), str(), etc.\n",
    "\n",
    "11.What is the purpose of conditional statements in Python?\n",
    "\n",
    "--> Conditional statements like if, elif, and else control the flow of the program based on conditions.\n",
    "\n",
    "12.How does the elif statement work?\n",
    "--> The elif (else-if) statement checks another condition if the previous if condition is false. It allows multiple conditions to be evaluated in sequence.\n",
    "\n",
    "13. What is the difference between for and while loops?\n",
    "\n",
    "--> for loop: Used when the number of iterations is known (e.g., iterating over a list).\n",
    "\n",
    "while loop: Used when the condition must be checked repeatedly until false.\n",
    "\n",
    "14.Describe a scenario where a while loop is more suitable than a for loop.\n",
    "\n",
    "--> A while loop is suitable when waiting for a user to enter valid input (unknown number of attempts) — for example, prompting for a password until it's correct.\n"
   ]
  },
  {
   "cell_type": "code",
   "execution_count": 2,
   "metadata": {
    "colab": {
     "base_uri": "https://localhost:8080/"
    },
    "executionInfo": {
     "elapsed": 17,
     "status": "ok",
     "timestamp": 1748339693093,
     "user": {
      "displayName": "DEEPRAJ CHHETRI",
      "userId": "15410229653663270279"
     },
     "user_tz": -330
    },
    "id": "OZOl_eeAKKLG",
    "outputId": "1adb615e-fb66-414d-eb7f-16b3879f2d1b"
   },
   "outputs": [
    {
     "name": "stdout",
     "output_type": "stream",
     "text": [
      "Hello, World!\n"
     ]
    }
   ],
   "source": [
    "#1. Write a Python program to print \"Hello, World!\"\n",
    "print(\"Hello, World!\")"
   ]
  },
  {
   "cell_type": "code",
   "execution_count": 3,
   "metadata": {
    "colab": {
     "base_uri": "https://localhost:8080/"
    },
    "executionInfo": {
     "elapsed": 21903,
     "status": "ok",
     "timestamp": 1748339786434,
     "user": {
      "displayName": "DEEPRAJ CHHETRI",
      "userId": "15410229653663270279"
     },
     "user_tz": -330
    },
    "id": "wEpfYsWzKhz6",
    "outputId": "b2d63dbe-0be5-49b9-eb1a-c593e7933f11"
   },
   "outputs": [
    {
     "name": "stdout",
     "output_type": "stream",
     "text": [
      "Enter your name: Deepraj Chhetri\n",
      "Enter your age: 20\n",
      "Your name is Deepraj Chhetri and your age is 20.\n"
     ]
    }
   ],
   "source": [
    "#2. Write a Python program that displays your name and age\n",
    "name = input(\"Enter your name: \")\n",
    "age = input(\"Enter your age: \")\n",
    "print(f\"Your name is {name} and your age is {age}.\")\n"
   ]
  },
  {
   "cell_type": "code",
   "execution_count": 4,
   "metadata": {
    "colab": {
     "base_uri": "https://localhost:8080/"
    },
    "executionInfo": {
     "elapsed": 9,
     "status": "ok",
     "timestamp": 1748339845550,
     "user": {
      "displayName": "DEEPRAJ CHHETRI",
      "userId": "15410229653663270279"
     },
     "user_tz": -330
    },
    "id": "xMJZQ6bRK6vD",
    "outputId": "38fbf630-6611-49a2-ffbe-187e0e9ef911"
   },
   "outputs": [
    {
     "name": "stdout",
     "output_type": "stream",
     "text": [
      "\n",
      "Here is a list of the Python keywords.  Enter any keyword to get more help.\n",
      "\n",
      "False               class               from                or\n",
      "None                continue            global              pass\n",
      "True                def                 if                  raise\n",
      "and                 del                 import              return\n",
      "as                  elif                in                  try\n",
      "assert              else                is                  while\n",
      "async               except              lambda              with\n",
      "await               finally             nonlocal            yield\n",
      "break               for                 not                 \n",
      "\n"
     ]
    }
   ],
   "source": [
    "#3. Write code to print all the pre-defined keywords in Python using the keyword library\n",
    "help(\"keywords\")"
   ]
  },
  {
   "cell_type": "code",
   "execution_count": 7,
   "metadata": {
    "colab": {
     "base_uri": "https://localhost:8080/"
    },
    "executionInfo": {
     "elapsed": 9644,
     "status": "ok",
     "timestamp": 1748339933704,
     "user": {
      "displayName": "DEEPRAJ CHHETRI",
      "userId": "15410229653663270279"
     },
     "user_tz": -330
    },
    "id": "JpuyhuS_LRPV",
    "outputId": "f4e635cc-97db-401f-9d35-2fb58a052909"
   },
   "outputs": [
    {
     "name": "stdout",
     "output_type": "stream",
     "text": [
      "Enter a word: help\n",
      "help is not a Python keyword.\n"
     ]
    }
   ],
   "source": [
    "#3.Write a program that checks if a given word is a Python keyword.\n",
    "import keyword\n",
    "word = input(\"Enter a word: \")\n",
    "if keyword.iskeyword(word):\n",
    "    print(f\"{word} is a Python keyword.\")\n",
    "else:\n",
    "    print(f\"{word} is not a Python keyword.\")\n"
   ]
  },
  {
   "cell_type": "code",
   "execution_count": 10,
   "metadata": {
    "colab": {
     "base_uri": "https://localhost:8080/"
    },
    "executionInfo": {
     "elapsed": 22,
     "status": "ok",
     "timestamp": 1748340118162,
     "user": {
      "displayName": "DEEPRAJ CHHETRI",
      "userId": "15410229653663270279"
     },
     "user_tz": -330
    },
    "id": "QmTUR3PTLT5d",
    "outputId": "f8adcc23-c812-42ab-8d97-2f6a3aa3c370"
   },
   "outputs": [
    {
     "data": {
      "text/plain": [
       "[2, 'Deepraj']"
      ]
     },
     "execution_count": 10,
     "metadata": {},
     "output_type": "execute_result"
    }
   ],
   "source": [
    "#Create a list and tuple in Python, and demonstrate how attempting to change an element works differently for each.\n",
    "lis=[1, \"Deepraj\"]\n",
    "lis[0]=2\n",
    "lis\n",
    "\n"
   ]
  },
  {
   "cell_type": "code",
   "execution_count": 11,
   "metadata": {
    "colab": {
     "base_uri": "https://localhost:8080/",
     "height": 200
    },
    "executionInfo": {
     "elapsed": 153,
     "status": "error",
     "timestamp": 1748340142310,
     "user": {
      "displayName": "DEEPRAJ CHHETRI",
      "userId": "15410229653663270279"
     },
     "user_tz": -330
    },
    "id": "AZPnhv3KLOgv",
    "outputId": "dd4231b4-bdb4-4be7-9561-57d9bade0d0b"
   },
   "outputs": [
    {
     "ename": "TypeError",
     "evalue": "'tuple' object does not support item assignment",
     "output_type": "error",
     "traceback": [
      "\u001b[0;31m---------------------------------------------------------------------------\u001b[0m",
      "\u001b[0;31mTypeError\u001b[0m                                 Traceback (most recent call last)",
      "\u001b[0;32m<ipython-input-11-23a9f40c5952>\u001b[0m in \u001b[0;36m<cell line: 0>\u001b[0;34m()\u001b[0m\n\u001b[1;32m      1\u001b[0m \u001b[0;31m#In tuple\u001b[0m\u001b[0;34m\u001b[0m\u001b[0;34m\u001b[0m\u001b[0m\n\u001b[1;32m      2\u001b[0m \u001b[0mtup\u001b[0m\u001b[0;34m=\u001b[0m\u001b[0;34m(\u001b[0m\u001b[0;36m1\u001b[0m\u001b[0;34m,\u001b[0m \u001b[0;34m\"Deepraj\"\u001b[0m\u001b[0;34m)\u001b[0m\u001b[0;34m\u001b[0m\u001b[0;34m\u001b[0m\u001b[0m\n\u001b[0;32m----> 3\u001b[0;31m \u001b[0mtup\u001b[0m\u001b[0;34m[\u001b[0m\u001b[0;36m0\u001b[0m\u001b[0;34m]\u001b[0m\u001b[0;34m=\u001b[0m\u001b[0;36m2\u001b[0m\u001b[0;34m\u001b[0m\u001b[0;34m\u001b[0m\u001b[0m\n\u001b[0m\u001b[1;32m      4\u001b[0m \u001b[0mtup\u001b[0m\u001b[0;34m\u001b[0m\u001b[0;34m\u001b[0m\u001b[0m\n",
      "\u001b[0;31mTypeError\u001b[0m: 'tuple' object does not support item assignment"
     ]
    }
   ],
   "source": [
    "#In tuple\n",
    "tup=(1, \"Deepraj\")\n",
    "tup[0]=2\n",
    "tup"
   ]
  },
  {
   "cell_type": "code",
   "execution_count": 15,
   "metadata": {
    "colab": {
     "base_uri": "https://localhost:8080/"
    },
    "executionInfo": {
     "elapsed": 12,
     "status": "ok",
     "timestamp": 1748340272196,
     "user": {
      "displayName": "DEEPRAJ CHHETRI",
      "userId": "15410229653663270279"
     },
     "user_tz": -330
    },
    "id": "xMGhfqdUMW7a",
    "outputId": "93098528-5637-4c11-e74f-fafcfef09cd6"
   },
   "outputs": [
    {
     "data": {
      "text/plain": [
       "['Deepraj', 'Raj']"
      ]
     },
     "execution_count": 15,
     "metadata": {},
     "output_type": "execute_result"
    }
   ],
   "source": [
    " #6. Write a function to demonstrate the behavior of mutable and immutable arguments\n",
    " friend=[\"Aman\",\"Raj\"]\n",
    " friend[0]=\"Deepraj\"\n",
    " #List is mutable\n",
    " friend"
   ]
  },
  {
   "cell_type": "code",
   "execution_count": 16,
   "metadata": {
    "colab": {
     "base_uri": "https://localhost:8080/",
     "height": 110
    },
    "executionInfo": {
     "elapsed": 8,
     "status": "error",
     "timestamp": 1748340293774,
     "user": {
      "displayName": "DEEPRAJ CHHETRI",
      "userId": "15410229653663270279"
     },
     "user_tz": -330
    },
    "id": "dHUPReRLMpN8",
    "outputId": "d3003706-1c84-4f54-8874-24c585d75582"
   },
   "outputs": [
    {
     "ename": "IndentationError",
     "evalue": "unexpected indent (<ipython-input-16-e0dbb900d146>, line 2)",
     "output_type": "error",
     "traceback": [
      "\u001b[0;36m  File \u001b[0;32m\"<ipython-input-16-e0dbb900d146>\"\u001b[0;36m, line \u001b[0;32m2\u001b[0m\n\u001b[0;31m    name=\"Deepraj\"\u001b[0m\n\u001b[0m    ^\u001b[0m\n\u001b[0;31mIndentationError\u001b[0m\u001b[0;31m:\u001b[0m unexpected indent\n"
     ]
    }
   ],
   "source": [
    "#Immutable eg string\n",
    " name=\"Deepraj\"\n",
    " name[0]=\"A\"\n",
    " name"
   ]
  },
  {
   "cell_type": "code",
   "execution_count": 17,
   "metadata": {
    "colab": {
     "base_uri": "https://localhost:8080/"
    },
    "executionInfo": {
     "elapsed": 30,
     "status": "ok",
     "timestamp": 1748340335225,
     "user": {
      "displayName": "DEEPRAJ CHHETRI",
      "userId": "15410229653663270279"
     },
     "user_tz": -330
    },
    "id": "fk7XE0k4M77_",
    "outputId": "5fcdc2e5-214c-4eb8-d7d9-f8affd68afee"
   },
   "outputs": [
    {
     "data": {
      "text/plain": [
       "18"
      ]
     },
     "execution_count": 17,
     "metadata": {},
     "output_type": "execute_result"
    }
   ],
   "source": [
    " #7. Write a program that performs basic arithmetic operations on two user-input numbers.\n",
    " a=9\n",
    " b=9\n",
    " a+b\n"
   ]
  },
  {
   "cell_type": "code",
   "execution_count": 19,
   "metadata": {
    "colab": {
     "base_uri": "https://localhost:8080/"
    },
    "executionInfo": {
     "elapsed": 18,
     "status": "ok",
     "timestamp": 1748340398376,
     "user": {
      "displayName": "DEEPRAJ CHHETRI",
      "userId": "15410229653663270279"
     },
     "user_tz": -330
    },
    "id": "7QiIuqgqNGDo",
    "outputId": "769130cf-f993-48b0-fd00-28247bb20f37"
   },
   "outputs": [
    {
     "data": {
      "text/plain": [
       "True"
      ]
     },
     "execution_count": 19,
     "metadata": {},
     "output_type": "execute_result"
    }
   ],
   "source": [
    " #8. Write a program to demonstrate the use of logical operators.\n",
    " True and True"
   ]
  },
  {
   "cell_type": "code",
   "execution_count": 20,
   "metadata": {
    "colab": {
     "base_uri": "https://localhost:8080/"
    },
    "executionInfo": {
     "elapsed": 18,
     "status": "ok",
     "timestamp": 1748340412877,
     "user": {
      "displayName": "DEEPRAJ CHHETRI",
      "userId": "15410229653663270279"
     },
     "user_tz": -330
    },
    "id": "rJQS3NUuNSGJ",
    "outputId": "ef3a23ba-9ae8-4658-e402-29031a5df312"
   },
   "outputs": [
    {
     "data": {
      "text/plain": [
       "True"
      ]
     },
     "execution_count": 20,
     "metadata": {},
     "output_type": "execute_result"
    }
   ],
   "source": [
    "True or False"
   ]
  },
  {
   "cell_type": "code",
   "execution_count": 21,
   "metadata": {
    "colab": {
     "base_uri": "https://localhost:8080/"
    },
    "executionInfo": {
     "elapsed": 5,
     "status": "ok",
     "timestamp": 1748340420451,
     "user": {
      "displayName": "DEEPRAJ CHHETRI",
      "userId": "15410229653663270279"
     },
     "user_tz": -330
    },
    "id": "_0cO4gv9NZBI",
    "outputId": "64ebd9c1-9762-476d-be69-8a7348746c81"
   },
   "outputs": [
    {
     "data": {
      "text/plain": [
       "True"
      ]
     },
     "execution_count": 21,
     "metadata": {},
     "output_type": "execute_result"
    }
   ],
   "source": [
    "not False"
   ]
  },
  {
   "cell_type": "code",
   "execution_count": 22,
   "metadata": {
    "colab": {
     "base_uri": "https://localhost:8080/"
    },
    "executionInfo": {
     "elapsed": 2963,
     "status": "ok",
     "timestamp": 1748340490271,
     "user": {
      "displayName": "DEEPRAJ CHHETRI",
      "userId": "15410229653663270279"
     },
     "user_tz": -330
    },
    "id": "jLcRu7ctNayf",
    "outputId": "9edac7de-0dce-4aea-aefc-db97696924ee"
   },
   "outputs": [
    {
     "name": "stdout",
     "output_type": "stream",
     "text": [
      "Please enter number: 3\n",
      "3\n",
      "3.0\n",
      "True\n"
     ]
    }
   ],
   "source": [
    "# 9. Write a Python program to convert user input from string to integer, float, and boolean types.\n",
    "number=input(\"Please enter number: \")\n",
    "print(int(number))\n",
    "print(float(number))\n",
    "print(bool(number))"
   ]
  },
  {
   "cell_type": "code",
   "execution_count": 23,
   "metadata": {
    "colab": {
     "base_uri": "https://localhost:8080/"
    },
    "executionInfo": {
     "elapsed": 7,
     "status": "ok",
     "timestamp": 1748340648258,
     "user": {
      "displayName": "DEEPRAJ CHHETRI",
      "userId": "15410229653663270279"
     },
     "user_tz": -330
    },
    "id": "C9J6gnQTNrMS",
    "outputId": "4fee3eee-ea58-49f6-8fc2-2584302394b4"
   },
   "outputs": [
    {
     "name": "stdout",
     "output_type": "stream",
     "text": [
      "Original list (strings): ['1', '2', '3', '4', '5']\n",
      "After casting to integers: [1, 2, 3, 4, 5]\n",
      "After casting to floats: [1.0, 2.0, 3.0, 4.0, 5.0]\n",
      "After casting back to strings: ['1.0', '2.0', '3.0', '4.0', '5.0']\n"
     ]
    }
   ],
   "source": [
    " #10. Write code to demonstrate type casting with list elements.\n",
    " string_list = [\"1\", \"2\", \"3\", \"4\", \"5\"]\n",
    " int_list = [int(item) for item in string_list]\n",
    " float_list = [float(item) for item in int_list]\n",
    "new_string_list = [str(item) for item in float_list]\n",
    "# Print results\n",
    "print(\"Original list (strings):\", string_list)\n",
    "print(\"After casting to integers:\", int_list)\n",
    "print(\"After casting to floats:\", float_list)\n",
    "print(\"After casting back to strings:\", new_string_list)\n"
   ]
  },
  {
   "cell_type": "code",
   "execution_count": 24,
   "metadata": {
    "colab": {
     "base_uri": "https://localhost:8080/"
    },
    "executionInfo": {
     "elapsed": 3032,
     "status": "ok",
     "timestamp": 1748340727680,
     "user": {
      "displayName": "DEEPRAJ CHHETRI",
      "userId": "15410229653663270279"
     },
     "user_tz": -330
    },
    "id": "H9t-L3HXOScf",
    "outputId": "a7d147b2-8a5c-4e57-f075-f13765671b16"
   },
   "outputs": [
    {
     "name": "stdout",
     "output_type": "stream",
     "text": [
      "Enter a number: 7\n",
      "The number is positive.\n"
     ]
    }
   ],
   "source": [
    "#11. Write a program that checks if a number is positive, negative, or zero\n",
    "\n",
    "# Take input from the user\n",
    "num = float(input(\"Enter a number: \"))\n",
    "\n",
    "# Check if the number is positive, negative or zero\n",
    "if num > 0:\n",
    "    print(\"The number is positive.\")\n",
    "elif num < 0:\n",
    "    print(\"The number is negative.\")\n",
    "else:\n",
    "    print(\"The number is zero.\")\n"
   ]
  },
  {
   "cell_type": "code",
   "execution_count": 25,
   "metadata": {
    "colab": {
     "base_uri": "https://localhost:8080/"
    },
    "executionInfo": {
     "elapsed": 48,
     "status": "ok",
     "timestamp": 1748340788419,
     "user": {
      "displayName": "DEEPRAJ CHHETRI",
      "userId": "15410229653663270279"
     },
     "user_tz": -330
    },
    "id": "RLAmQ9akOlJA",
    "outputId": "22a66a2c-5c3a-4f84-fee3-3ecbdba1471a"
   },
   "outputs": [
    {
     "name": "stdout",
     "output_type": "stream",
     "text": [
      "1\n",
      "2\n",
      "3\n",
      "4\n",
      "5\n",
      "6\n",
      "7\n",
      "8\n",
      "9\n",
      "10\n"
     ]
    }
   ],
   "source": [
    "#12. Write a for loop to print numbers from 1 to 10.\n",
    "for i in range(1, 11):\n",
    "    print(i)\n"
   ]
  },
  {
   "cell_type": "code",
   "execution_count": 26,
   "metadata": {
    "colab": {
     "base_uri": "https://localhost:8080/"
    },
    "executionInfo": {
     "elapsed": 15,
     "status": "ok",
     "timestamp": 1748340825761,
     "user": {
      "displayName": "DEEPRAJ CHHETRI",
      "userId": "15410229653663270279"
     },
     "user_tz": -330
    },
    "id": "rduPlWG-O0sl",
    "outputId": "353b03e6-aa9a-459c-9c19-ea09f1ab76dd"
   },
   "outputs": [
    {
     "name": "stdout",
     "output_type": "stream",
     "text": [
      "Sum of even numbers from 1 to 50 is: 650\n"
     ]
    }
   ],
   "source": [
    "#13. Write a Python program to find the sum of all even numbers between 1 and 50.\n",
    "# Initialize sum\n",
    "even_sum = 0\n",
    "\n",
    "# Loop through numbers from 1 to 50\n",
    "for num in range(1, 51):\n",
    "    if num % 2 == 0:\n",
    "        even_sum += num\n",
    "\n",
    "# Print the result\n",
    "print(\"Sum of even numbers from 1 to 50 is:\", even_sum)\n"
   ]
  },
  {
   "cell_type": "code",
   "execution_count": 27,
   "metadata": {
    "colab": {
     "base_uri": "https://localhost:8080/"
    },
    "executionInfo": {
     "elapsed": 7006,
     "status": "ok",
     "timestamp": 1748340894375,
     "user": {
      "displayName": "DEEPRAJ CHHETRI",
      "userId": "15410229653663270279"
     },
     "user_tz": -330
    },
    "id": "MxYFmXGmO90l",
    "outputId": "065a59d8-530c-42b2-d5c8-341363ffb377"
   },
   "outputs": [
    {
     "name": "stdout",
     "output_type": "stream",
     "text": [
      "Enter a string: deepraj\n",
      "Reversed string: jarpeed\n"
     ]
    }
   ],
   "source": [
    "#14.Write a program to reverse a string using a while loop.\n",
    "# Take input from user\n",
    "original_str = input(\"Enter a string: \")\n",
    "\n",
    "# Initialize variables\n",
    "reversed_str = \"\"\n",
    "index = len(original_str) - 1\n",
    "\n",
    "# Reverse using while loop\n",
    "while index >= 0:\n",
    "    reversed_str += original_str[index]\n",
    "    index -= 1\n",
    "\n",
    "# Print the reversed string\n",
    "print(\"Reversed string:\", reversed_str)\n"
   ]
  },
  {
   "cell_type": "code",
   "execution_count": 28,
   "metadata": {
    "colab": {
     "base_uri": "https://localhost:8080/"
    },
    "executionInfo": {
     "elapsed": 3953,
     "status": "ok",
     "timestamp": 1748340937927,
     "user": {
      "displayName": "DEEPRAJ CHHETRI",
      "userId": "15410229653663270279"
     },
     "user_tz": -330
    },
    "id": "PrdNy1laPM20",
    "outputId": "47242b33-4953-454e-8256-5e70a0a0a72f"
   },
   "outputs": [
    {
     "name": "stdout",
     "output_type": "stream",
     "text": [
      "Enter a number to find its factorial: 4\n",
      "The factorial of 4 is: 24\n"
     ]
    }
   ],
   "source": [
    "#15. Write a Python program to calculate the factorial of a number provided by the user using a while loop.\n",
    "# Take input from the user\n",
    "num = int(input(\"Enter a number to find its factorial: \"))\n",
    "\n",
    "# Initialize variables\n",
    "factorial = 1\n",
    "i = 1\n",
    "\n",
    "# Check for valid input\n",
    "if num < 0:\n",
    "    print(\"Factorial is not defined for negative numbers.\")\n",
    "else:\n",
    "    while i <= num:\n",
    "        factorial *= i\n",
    "        i += 1\n",
    "    print(f\"The factorial of {num} is: {factorial}\")\n"
   ]
  },
  {
   "cell_type": "code",
   "execution_count": null,
   "metadata": {
    "id": "dSv9VlCRPYNN"
   },
   "outputs": [],
   "source": []
  }
 ],
 "metadata": {
  "colab": {
   "authorship_tag": "ABX9TyPFTIp+RkxuzffcX5tLOj8N",
   "provenance": []
  },
  "kernelspec": {
   "display_name": "Python 3",
   "name": "python3"
  },
  "language_info": {
   "name": "python"
  }
 },
 "nbformat": 4,
 "nbformat_minor": 0
}
